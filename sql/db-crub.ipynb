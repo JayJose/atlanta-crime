{
 "cells": [
  {
   "cell_type": "code",
   "execution_count": 4,
   "metadata": {
    "scrolled": false
   },
   "outputs": [],
   "source": [
    "import pyodbc\n",
    "import pandas as pd\n",
    "from sqlalchemy import create_engine\n",
    "import urllib\n",
    "\n",
    "server = open(\"../sicrits/.server_name\").read()\n",
    "database = open(\"../sicrits/.database_name\").read()\n",
    "username = open(\"../sicrits/.username\").read()\n",
    "password = open(\"../sicrits/.pdub\").read()\n",
    "\n",
    "# create engine\n",
    "params = urllib.parse.quote_plus(r'Driver={ODBC Driver 17 for SQL Server};Server=tcp:'+server+',1433;Database='+database+';Uid='+username+';Pwd='+password+';Encrypt=yes;TrustServerCertificate=no;Connection Timeout=30;')\n",
    "conn_str = 'mssql+pyodbc:///?odbc_connect={}'.format(params)\n",
    "engine_azure = create_engine(conn_str,echo=False)"
   ]
  },
  {
   "cell_type": "code",
   "execution_count": 5,
   "metadata": {},
   "outputs": [
    {
     "data": {
      "text/html": [
       "<div>\n",
       "<style scoped>\n",
       "    .dataframe tbody tr th:only-of-type {\n",
       "        vertical-align: middle;\n",
       "    }\n",
       "\n",
       "    .dataframe tbody tr th {\n",
       "        vertical-align: top;\n",
       "    }\n",
       "\n",
       "    .dataframe thead th {\n",
       "        text-align: right;\n",
       "    }\n",
       "</style>\n",
       "<table border=\"1\" class=\"dataframe\">\n",
       "  <thead>\n",
       "    <tr style=\"text-align: right;\">\n",
       "      <th></th>\n",
       "      <th>id</th>\n",
       "      <th>offense_id</th>\n",
       "      <th>rpt_date</th>\n",
       "      <th>occur_date</th>\n",
       "      <th>occur_day</th>\n",
       "      <th>occur_day_num</th>\n",
       "      <th>occur_time</th>\n",
       "      <th>poss_date</th>\n",
       "      <th>poss_time</th>\n",
       "      <th>beat</th>\n",
       "      <th>zone</th>\n",
       "      <th>location</th>\n",
       "      <th>ibr_code</th>\n",
       "      <th>UC2_Literal</th>\n",
       "      <th>neighborhood</th>\n",
       "      <th>npu</th>\n",
       "      <th>lat</th>\n",
       "      <th>long</th>\n",
       "    </tr>\n",
       "  </thead>\n",
       "  <tbody>\n",
       "    <tr>\n",
       "      <th>0</th>\n",
       "      <td>1</td>\n",
       "      <td>21140096</td>\n",
       "      <td>5/20/2021</td>\n",
       "      <td>5/19/2021</td>\n",
       "      <td>Wednesday</td>\n",
       "      <td>4</td>\n",
       "      <td>15:20</td>\n",
       "      <td>5/19/2021</td>\n",
       "      <td>15:25</td>\n",
       "      <td>103</td>\n",
       "      <td>1</td>\n",
       "      <td>1720 MARIETTA BLVD NW\\nATLANTA, GA 30318\\nUNIT...</td>\n",
       "      <td>23F</td>\n",
       "      <td>LARCENY-FROM VEHICLE</td>\n",
       "      <td>Hills Park</td>\n",
       "      <td>D</td>\n",
       "      <td>33.8017</td>\n",
       "      <td>-84.4365</td>\n",
       "    </tr>\n",
       "    <tr>\n",
       "      <th>1</th>\n",
       "      <td>2</td>\n",
       "      <td>21282015</td>\n",
       "      <td>8/6/2021</td>\n",
       "      <td>8/6/2021</td>\n",
       "      <td>Friday</td>\n",
       "      <td>6</td>\n",
       "      <td>22:23</td>\n",
       "      <td>8/6/2021</td>\n",
       "      <td>22:24</td>\n",
       "      <td>508</td>\n",
       "      <td>5</td>\n",
       "      <td>300 PEACHTREE ST NE\\nATLANTA, GA 30308\\nUNITED...</td>\n",
       "      <td>23F</td>\n",
       "      <td>LARCENY-FROM VEHICLE</td>\n",
       "      <td>Downtown</td>\n",
       "      <td>M</td>\n",
       "      <td>33.7625</td>\n",
       "      <td>-84.3879</td>\n",
       "    </tr>\n",
       "  </tbody>\n",
       "</table>\n",
       "</div>"
      ],
      "text/plain": [
       "   id offense_id   rpt_date occur_date  occur_day occur_day_num occur_time  \\\n",
       "0   1   21140096  5/20/2021  5/19/2021  Wednesday             4      15:20   \n",
       "1   2   21282015   8/6/2021   8/6/2021     Friday             6      22:23   \n",
       "\n",
       "   poss_date poss_time beat zone  \\\n",
       "0  5/19/2021     15:25  103    1   \n",
       "1   8/6/2021     22:24  508    5   \n",
       "\n",
       "                                            location ibr_code  \\\n",
       "0  1720 MARIETTA BLVD NW\\nATLANTA, GA 30318\\nUNIT...      23F   \n",
       "1  300 PEACHTREE ST NE\\nATLANTA, GA 30308\\nUNITED...      23F   \n",
       "\n",
       "            UC2_Literal neighborhood npu      lat      long  \n",
       "0  LARCENY-FROM VEHICLE   Hills Park   D  33.8017  -84.4365  \n",
       "1  LARCENY-FROM VEHICLE     Downtown   M  33.7625  -84.3879  "
      ]
     },
     "execution_count": 5,
     "metadata": {},
     "output_type": "execute_result"
    }
   ],
   "source": [
    "# query db\n",
    "query = \"SELECT TOP 2 * FROM Crime.cobra21_raw;\"\n",
    "pd.read_sql(query, con=engine_azure)"
   ]
  },
  {
   "cell_type": "code",
   "execution_count": null,
   "metadata": {},
   "outputs": [],
   "source": [
    "# write data to database\n",
    "# df.to_sql('cobra21_raw', con=engine_azure,\n",
    "#           schema=\"Crime\",\n",
    "#           if_exists='append',\n",
    "#           index=False\n",
    "#          )"
   ]
  },
  {
   "cell_type": "code",
   "execution_count": null,
   "metadata": {},
   "outputs": [],
   "source": [
    "\n",
    "\n"
   ]
  },
  {
   "cell_type": "code",
   "execution_count": null,
   "metadata": {},
   "outputs": [],
   "source": []
  }
 ],
 "metadata": {
  "kernelspec": {
   "display_name": "Python 3",
   "language": "python",
   "name": "python3"
  },
  "language_info": {
   "codemirror_mode": {
    "name": "ipython",
    "version": 3
   },
   "file_extension": ".py",
   "mimetype": "text/x-python",
   "name": "python",
   "nbconvert_exporter": "python",
   "pygments_lexer": "ipython3",
   "version": "3.8.5"
  }
 },
 "nbformat": 4,
 "nbformat_minor": 4
}
